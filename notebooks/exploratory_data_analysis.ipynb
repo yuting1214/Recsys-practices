{
 "cells": [
  {
   "cell_type": "code",
   "execution_count": 1,
   "metadata": {},
   "outputs": [],
   "source": [
    "import sys\n",
    "import os\n",
    "\n",
    "# Add the root directory to Python path\n",
    "os.chdir(os.path.abspath('..'))\n",
    "\n",
    "# Now, this import will work\n",
    "from src.data_loader.dataset import ML100K\n",
    "from src.data_loader.datamodule import LitDataModule"
   ]
  },
  {
   "cell_type": "code",
   "execution_count": 5,
   "metadata": {},
   "outputs": [],
   "source": [
    "data = ML100K()"
   ]
  },
  {
   "cell_type": "code",
   "execution_count": 3,
   "metadata": {},
   "outputs": [
    {
     "name": "stdout",
     "output_type": "stream",
     "text": [
      "tensor([757, 353,  63, 895, 416, 531, 398, 456, 486, 621, 494, 249,  54, 150,\n",
      "        224, 520, 143, 462, 685, 876, 528, 843, 824, 449, 832, 313, 748, 180,\n",
      "        344, 795, 586, 302]) tensor([ 241,  472,  231,  568,  440,  367,  406,  567,  281,  283, 1115,  932,\n",
      "          78,  516,  244,  231,    3,  123,  503,   58,  689,   12,  686,  938,\n",
      "         193,  507,   71,  474,  364,  177,  878,  197]) tensor([3., 3., 2., 2., 3., 3., 3., 4., 4., 1., 3., 3., 5., 2., 2., 3., 4., 5.,\n",
      "        5., 5., 3., 3., 5., 4., 3., 3., 3., 2., 2., 3., 1., 4.])\n"
     ]
    }
   ],
   "source": [
    "data_module = LitDataModule(ML100K())\n",
    "\n",
    "# Set up the data\n",
    "data_module.setup(stage='fit')\n",
    "\n",
    "# Access data loaders\n",
    "train_loader = data_module.train_dataloader()\n",
    "val_loader = data_module.val_dataloader()\n",
    "\n",
    "# Example usage: Iterate through the training data\n",
    "for batch in train_loader:\n",
    "    user_ids, item_ids, ratings = batch\n",
    "    print(user_ids, item_ids, ratings)\n",
    "    break  # Remove this break to iterate over the entire dataset"
   ]
  }
 ],
 "metadata": {
  "kernelspec": {
   "display_name": ".venv",
   "language": "python",
   "name": "python3"
  },
  "language_info": {
   "codemirror_mode": {
    "name": "ipython",
    "version": 3
   },
   "file_extension": ".py",
   "mimetype": "text/x-python",
   "name": "python",
   "nbconvert_exporter": "python",
   "pygments_lexer": "ipython3",
   "version": "3.9.13"
  }
 },
 "nbformat": 4,
 "nbformat_minor": 2
}
